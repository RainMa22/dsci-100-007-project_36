{
 "cells": [
  {
   "cell_type": "markdown",
   "id": "45ad84c1-ec5f-49c9-a800-eb80b933fd7e",
   "metadata": {},
   "source": [
    "# Project Proposal: Data Science 100\n",
    "\n",
    "## Group 06 - Section 007\n",
    "\n",
    "### Ruirui Ma, Emilio Rodriguez-Sanin, William Tan, Jinay Borana\n",
    "\n",
    "\n",
    "Pulsars are highly magnetized, rotating neutron stars that emit beams of electromagnetic radiation out of their magnetic poles. This radiation is only detectable when the beam is facing Earth, similar to a lighthouse effect. The detection and classification of pulsars are crucial for astronomical research, contributing to our understanding of the cosmos, including studies of space-time, galaxy evolution, and the state of matter under extreme conditions. The challenge lies in accurately distinguishing these rare celestial phenomena from a vast amount of noise and interference in radio signals collected by telescopes. Identifying pulsars accurately from large datasets is crucial for understanding the universe. This project aims to create a classification model using the HTRU2 dataset to predict whether a candidate is or is not a pulsar. \n",
    "    \n",
    "Pulsars are a type of rapidly rotating neutron star, they emit a beam of radio waves that sweep across space. As their emission beam passes our line of sight, their radio emission can be detected using large radio telescopes. In order to find these pulsars, astronomers attempt to find periodically repeating radio waves; however, radio frequency interference is noise that may resemble a pulsar’s radio emissions. In order to distinguish real pulsars from radio frequency interference, the duration, period, and frequency of the radio signal must be analyzed.\n",
    "\n",
    "\n",
    "We can load the data into R by first downloading the zipped data from UC Irvine Machine Learning Repository, then unzip it using R’s unzip function, then load it into the notebook using read_csv, with columns, “col_names=c(\"Profile_mean\", \"Profile_stdev\", \"Profile_skewness\", \"Profile_kurtosis\", \"DM_mean\", \"DM_stdev\", \"DM_skewness\", \"DM_kurtosis\", \"class\")”. \n",
    "\n",
    "\n",
    "The data set has eight columns that will be useful to our data analysis, the first four carry quantitative data on the integrated pulse profile, a version of the signal averaged in both time and frequency. The remaining four columns we will use inform us about the DM-SNR curve, a measure of the ratio of signal to noise. For our model, we will use all eight columns for prediction\n",
    "\n",
    "Our initial splits is a 75%:25% split between the training set and the data set, using strata of “class”, so ~4067 true negatives, and ~407 true positives will be tested for missing values. \n",
    "\n",
    "In the note book includes preliminary graph of the pulsars’ mean signal profile(of undefined unit) vs the mean DM-SNR Curve (of undefined unit). We can see a somewhat binary distribution of the negative and positive data, thus making the classification project viable. The analysis will include other variables from profile and DM-SNR variables.\n",
    "\n",
    "\n",
    "\n",
    "## Expected Outcomes and Significance\n",
    "    \n",
    "We anticipate our model to classify pulsar candidates with a high degree of accuracy, aiming for a recall rate above 75%. Successful classification of pulsars would streamline the process of identifying these rare celestial objects, significantly aiding in astronomical research and potentially leading to new discoveries in the field of astrophysics. The findings could also serve as a benchmark for the performance of KNN in pulsar classification, contributing to the broader discourse on the application of machine learning techniques in astrophysical data analysis. Further exploration might include comparing the effectiveness of different machine learning models, such as support vector machines or neural networks, in classifying pulsars. In the long term, this project's insights could inspire more advanced automated systems for real-time pulsar detection in astronomical data streams, further opening up the field for new discoveries and research avenues.\n",
    "\n",
    "## Future Questions\n",
    "    \n",
    "- How do the accuracies of other classification algorithms compare to KNN for pulsar detection?\n",
    "- Can we develop a real-time classification system that integrates with telescope data feeds to automate pulsar detection?\n",
    "- What insights into the nature of pulsars and their distribution in the universe can be gleaned from an improved classification model?\n",
    "\r\n",
    "\r\n"
   ]
  }
 ],
 "metadata": {
  "kernelspec": {
   "display_name": "R",
   "language": "R",
   "name": "ir"
  },
  "language_info": {
   "codemirror_mode": "r",
   "file_extension": ".r",
   "mimetype": "text/x-r-source",
   "name": "R",
   "pygments_lexer": "r",
   "version": "4.3.1"
  }
 },
 "nbformat": 4,
 "nbformat_minor": 5
}
